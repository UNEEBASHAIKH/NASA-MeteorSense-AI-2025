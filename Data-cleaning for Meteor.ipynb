{
  "cells": [
    {
      "cell_type": "markdown",
      "metadata": {
        "colab_type": "text",
        "id": "view-in-github"
      },
      "source": [
        "<a href=\"https://colab.research.google.com/github/UNEEBASHAIKH/NASA-MeteorSense-AI-2025/blob/Data-Cleaning/Meteor_Madness.ipynb\" target=\"_parent\"><img src=\"https://colab.research.google.com/assets/colab-badge.svg\" alt=\"Open In Colab\"/></a>"
      ]
    },
    {
      "cell_type": "code",
      "execution_count": 16,
      "metadata": {
        "colab": {
          "base_uri": "https://localhost:8080/"
        },
        "id": "-1LuBCgPh1oY",
        "outputId": "6ff1443a-26b2-4846-9662-8e0f5fae0d52"
      },
      "outputs": [
        {
          "name": "stdout",
          "output_type": "stream",
          "text": [
            "1424\n"
          ]
        }
      ],
      "source": [
        "import requests\n",
        "import pandas as pd\n",
        "\n",
        "cad_url = \"https://ssd-api.jpl.nasa.gov/cad.api\"\n",
        "params = {\n",
        "    \"dist-max\": \"0.05\",\n",
        "    \"date-min\": \"2025-01-01\",\n",
        "    \"date-max\": \"2026-12-31\",\n",
        "    \"sort\": \"date\",\n",
        "    \"body\": \"Earth\",\n",
        "    \"limit\": 10000,\n",
        "    \"fullname\": \"true\"\n",
        "}\n",
        "cad_data = requests.get(cad_url, params=params).json()\n",
        "cols = cad_data[\"fields\"]\n",
        "df = pd.DataFrame(cad_data[\"data\"], columns=cols)\n",
        "# Now get more details for each asteroid\n",
        "details = []\n",
        "for des in df[\"des\"].head(10000):  # limit to 10 for speed\n",
        "    sbdb_url = f\"https://ssd-api.jpl.nasa.gov/sbdb.api?sstr={des}\"\n",
        "    detail = requests.get(sbdb_url).json()\n",
        "    info = {\n",
        "        \"des\": des,\n",
        "        \"diameter\": detail.get(\"phys_par\", {}).get(\"diameter\"),\n",
        "        \"orbit_class\": detail.get(\"orbit_class\", {}).get(\"name\"),\n",
        "        \"pha\": detail.get(\"pha\"),\n",
        "    }\n",
        "    details.append(info)\n",
        "\n",
        "extra_df = pd.DataFrame(details)\n",
        "df = df.merge(extra_df, on=\"des\", how=\"left\")\n",
        "print(len(df))\n",
        "\n",
        "\n"
      ]
    },
    {
      "cell_type": "code",
      "execution_count": null,
      "metadata": {
        "id": "Gx_d5rADTSvV"
      },
      "outputs": [],
      "source": [
        "# renaming the columns fro understanding\n",
        "rename_map = {\n",
        "    \"des\": \"Asteroid ID\",\n",
        "    \"orbit_id\": \"Orbit Number\",\n",
        "    \"jd\": \"Julian Date\",\n",
        "    \"cd\": \"Close Approach Date\",\n",
        "    \"dist\": \"Distance from Earth (AU)\",\n",
        "    \"dist_min\": \"Minimum Distance (AU)\",\n",
        "    \"dist_max\": \"Maximum Distance (AU)\",\n",
        "    \"v_rel\": \"Relative Velocity (km/s)\",\n",
        "    \"v_inf\": \"Velocity w/o Gravity (km/s)\",\n",
        "    \"t_sigma_f\": \"Timing Uncertainty (days)\",\n",
        "    \"h\": \"Absolute Magnitude (H)\",\n",
        "    \"fullname\": \"Asteroid Name\",\n",
        "    \"diameter\": \"Estimated Diameter (km)\",\n",
        "    \"orbit_class\": \"Orbit Type\",\n",
        "    \"pha\": \"Potentially Hazardous (Y/N)\"\n",
        "}\n",
        "\n",
        "df = df.rename(columns=rename_map)\n"
      ]
    },
    {
      "cell_type": "code",
      "execution_count": 4,
      "metadata": {
        "id": "3BaAxo8wTnnc"
      },
      "outputs": [],
      "source": [
        "# Claening\n",
        "df.drop_duplicates(inplace=True)\n",
        "df.dropna(inplace=True)"
      ]
    },
    {
      "cell_type": "code",
      "execution_count": 5,
      "metadata": {
        "id": "WydJnZBFT9Qc"
      },
      "outputs": [],
      "source": [
        " #Handle missing values\n",
        "\n",
        "df = df.copy()\n",
        "num_cols = df.select_dtypes(include=['float64', 'int64']).columns\n",
        "cat_cols = df.select_dtypes(include=['object']).columns\n",
        "\n",
        "for col in num_cols:\n",
        "    df[col] = df[col].fillna(df[col].median())"
      ]
    },
    {
      "cell_type": "code",
      "execution_count": 19,
      "metadata": {
        "id": "_NAoVtShT_6D"
      },
      "outputs": [],
      "source": [
        "# type casting\n",
        "df['Orbit Number'] = pd.to_numeric(df['Orbit Number'], errors='coerce').astype('Int64')\n",
        "df['Julian Date'] = pd.to_numeric(df['Julian Date'], errors='coerce')\n",
        "df['Close Approach Date'] = pd.to_datetime(df['Close Approach Date'], errors='coerce')\n"
      ]
    },
    {
      "cell_type": "code",
      "execution_count": 20,
      "metadata": {
        "id": "9iblLEofUMba"
      },
      "outputs": [],
      "source": [
        "# Handle outliers (IQR method) ********** thsi part is Optional\n",
        "import numpy as np\n",
        "def cap_outliers(series):\n",
        "    Q1 = series.quantile(0.25)\n",
        "    Q3 = series.quantile(0.75)\n",
        "    IQR = Q3 - Q1\n",
        "    lower = Q1 - 1.5 * IQR\n",
        "    upper = Q3 + 1.5 * IQR\n",
        "    return np.clip(series, lower, upper)\n",
        "\n",
        "for col in num_cols:\n",
        "    df[col] = cap_outliers(df[col])"
      ]
    },
    {
      "cell_type": "code",
      "execution_count": 21,
      "metadata": {
        "id": "yvc2hr3PUqeT"
      },
      "outputs": [],
      "source": [
        "#Cleaning the strings\n",
        "for col in cat_cols:\n",
        "    df[col] = df[col].astype(str).str.strip().str.title()"
      ]
    },
    {
      "cell_type": "code",
      "execution_count": 22,
      "metadata": {
        "id": "FE78rAIgVM25"
      },
      "outputs": [],
      "source": [
        "# Converting the txt to boo so that it is easy for ML to understand\n",
        "from sklearn.preprocessing import LabelEncoder, MinMaxScaler\n",
        "if 'Potentially Hazardous' in df.columns:\n",
        "    df['Potentially Hazardous'] = df['Potentially Hazardous'].map({\n",
        "        'True': 1, 'Yes': 1, 'Y': 1,\n",
        "        'False': 0, 'No': 0, 'N': 0\n",
        "    }).fillna(0).astype(int)\n",
        "\n",
        "if 'Orbit Type' in df.columns:\n",
        "    le = LabelEncoder()\n",
        "    df['Orbit Type'] = le.fit_transform(df['Orbit Type'])"
      ]
    },
    {
      "cell_type": "code",
      "execution_count": 23,
      "metadata": {
        "id": "6ggnc-LPVkPl"
      },
      "outputs": [],
      "source": [
        "# Scaling it for ML  ****** this one is Importat for model to  treats all features fairly\n",
        "if len(num_cols) > 0:\n",
        "    scaler = MinMaxScaler()\n",
        "    df[num_cols] = scaler.fit_transform(df[num_cols])"
      ]
    },
    {
      "cell_type": "code",
      "execution_count": null,
      "metadata": {
        "id": "qYBLNoKEW4_D"
      },
      "outputs": [],
      "source": [
        "# Ensure the columns are numeric\n",
        "for col in ['Estimated Diameter (km)', 'Relative Velocity (km/s)', 'Distance from Earth (AU)']:\n",
        "    df[col] = pd.to_numeric(df[col], errors='coerce')\n",
        "\n",
        "# Now compute the Risk_Score\n",
        "if all(col in df.columns for col in ['Estimated Diameter (km)', 'Relative Velocity (km/s)', 'Distance from Earth (AU)']):\n",
        "    df['Risk_Score'] = (\n",
        "        df['Estimated Diameter (km)'] *\n",
        "        df['Relative Velocity (km/s)'] /\n",
        "        (df['Distance from Earth (AU)'] + 1e-6)\n",
        "    )\n"
      ]
    },
    {
      "cell_type": "code",
      "execution_count": 12,
      "metadata": {
        "id": "kqLnExaOWtZ2"
      },
      "outputs": [],
      "source": [
        "# EDA from this part apart"
      ]
    },
    {
      "cell_type": "code",
      "execution_count": 13,
      "metadata": {
        "id": "Oms17WnWe3ho"
      },
      "outputs": [],
      "source": [
        "import pandas as pd\n",
        "import matplotlib.pyplot as plt\n",
        "import seaborn as sns"
      ]
    },
    {
      "cell_type": "code",
      "execution_count": null,
      "metadata": {
        "id": "aFucpMs7f4tZ"
      },
      "outputs": [],
      "source": []
    }
  ],
  "metadata": {
    "colab": {
      "authorship_tag": "ABX9TyMzlL0XmqYFivpKE6yjN/qo",
      "include_colab_link": true,
      "provenance": []
    },
    "kernelspec": {
      "display_name": "Python 3",
      "name": "python3"
    },
    "language_info": {
      "codemirror_mode": {
        "name": "ipython",
        "version": 3
      },
      "file_extension": ".py",
      "mimetype": "text/x-python",
      "name": "python",
      "nbconvert_exporter": "python",
      "pygments_lexer": "ipython3",
      "version": "3.10.9"
    }
  },
  "nbformat": 4,
  "nbformat_minor": 0
}
